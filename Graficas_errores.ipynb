{
 "cells": [
  {
   "cell_type": "markdown",
   "id": "e406c7e0",
   "metadata": {},
   "source": [
    "Distancias derecha 39.5 cm\n",
    "\n",
    "Distancias izquierda 40 cm\n",
    "\n",
    "Distancia entre hombros: 36 cm\n",
    "\n",
    "Distancia cadera: 26 cm"
   ]
  },
  {
   "cell_type": "markdown",
   "id": "f694177f",
   "metadata": {},
   "source": [
    "Distancias frente en 5m,4m y 2m  ByN.Color\n"
   ]
  },
  {
   "cell_type": "code",
   "execution_count": 3,
   "id": "b0ae739a",
   "metadata": {},
   "outputs": [],
   "source": [
    "import pandas as pd\n",
    "import matplotlib\n",
    "phats=['Estadisticas/EstadisticasF_5m_nano_ByN.csv','Estadisticas/EstadisticasF_4m_nano_ByN.csv','Estadisticas/EstadisticasF_2m_nano_ByN.csv']\n",
    "datos=[]\n",
    "for phat in phats:\n",
    "    df =pd.read_csv(phat)\n",
    "    datos.append(df)\n",
    "\n"
   ]
  },
  {
   "cell_type": "code",
   "execution_count": null,
   "id": "3d76131b",
   "metadata": {},
   "outputs": [
    {
     "name": "stdout",
     "output_type": "stream",
     "text": [
      "Distancia Euclidiana entre hombros a 5metros es: 16.529880410667772\n",
      "Distancia Manhattan entre hombros a 5metros 17.296539306640625\n",
      "\n",
      "\n",
      "Distancia Euclidiana entre hombros a 4metros es: 19.621555332462226\n",
      "Distancia Manhattan entre hombros a 4metros 20.123968505859374\n",
      "\n",
      "\n",
      "Distancia Euclidiana entre hombros a 2metros es: 37.865040490865326\n",
      "Distancia Manhattan entre hombros a 2metros 39.76335906982422\n",
      "\n",
      "\n"
     ]
    }
   ],
   "source": [
    "distancia=['5','4','2']\n",
    "for indice,dato in enumerate(datos):\n",
    "    print(f'Distancia Euclidiana entre hombros a {distancia[indice]}metros es: {dato['dist_euclid_shlders'].mean()}')\n",
    "    print(f'Distancia Manhattan entre hombros a {distancia[indice]}metros {dato['dist_manh_shlders'].mean()}')\n",
    "    print('\\n')\n",
    "#Distancias 'Real' de entre hombros 36 cm"
   ]
  },
  {
   "cell_type": "code",
   "execution_count": null,
   "id": "9d5e8999",
   "metadata": {},
   "outputs": [
    {
     "name": "stdout",
     "output_type": "stream",
     "text": [
      "Distancia Euclidiana de cadera 5metros es: 10.714570330777132\n",
      "Distancia Manhattan de cadera 5metros 10.93162082981419\n",
      "\n",
      "\n",
      "Distancia Euclidiana de cadera 4metros es: 12.56578031490985\n",
      "Distancia Manhattan de cadera 4metros 12.854898579915364\n",
      "\n",
      "\n",
      "Distancia Euclidiana de cadera 2metros es: 24.20780302549299\n",
      "Distancia Manhattan de cadera 2metros 25.585329818725587\n",
      "\n",
      "\n"
     ]
    }
   ],
   "source": [
    "for indice,dato in enumerate(datos):\n",
    "    print(f'Distancia Euclidiana de cadera {distancia[indice]}metros es: {dato['dist_euclid_hips'].mean()}')\n",
    "    print(f'Distancia Manhattan de cadera {distancia[indice]}metros {dato['dist_manh_hips'].mean()}')\n",
    "    print('\\n')\n",
    "\n",
    "#Distancias 'Real' de cadera 26cm"
   ]
  },
  {
   "cell_type": "code",
   "execution_count": 12,
   "id": "71f0c174",
   "metadata": {},
   "outputs": [
    {
     "name": "stdout",
     "output_type": "stream",
     "text": [
      "Distancia Euclidiana de cadera 5metros es: 42.17838408718908\n",
      "Distancia Manhattan de cadera 5metros 44.00121245513091\n",
      "\n",
      "\n",
      "Distancia Euclidiana de cadera 4metros es: 52.36976942530443\n",
      "Distancia Manhattan de cadera 4metros 54.52725830078125\n",
      "\n",
      "\n",
      "Distancia Euclidiana de cadera 2metros es: 101.06505515978982\n",
      "Distancia Manhattan de cadera 2metros 110.80928993225098\n",
      "\n",
      "\n"
     ]
    }
   ],
   "source": [
    "for indice,dato in enumerate(datos):\n",
    "    print(f'Distancia Euclidiana de cadera {distancia[indice]}metros es: {dato['dist_euclid_right_shoulder_hip'].mean()}')\n",
    "    print(f'Distancia Manhattan de cadera {distancia[indice]}metros {dato['dist_manh_right_shoulder_hip'].mean()}')\n",
    "    print('\\n')\n",
    "\n",
    "#Distancias 'Real' de hombro y cadera derecha 39.5"
   ]
  }
 ],
 "metadata": {
  "kernelspec": {
   "display_name": "Python 3",
   "language": "python",
   "name": "python3"
  },
  "language_info": {
   "codemirror_mode": {
    "name": "ipython",
    "version": 3
   },
   "file_extension": ".py",
   "mimetype": "text/x-python",
   "name": "python",
   "nbconvert_exporter": "python",
   "pygments_lexer": "ipython3",
   "version": "3.13.7"
  }
 },
 "nbformat": 4,
 "nbformat_minor": 5
}
